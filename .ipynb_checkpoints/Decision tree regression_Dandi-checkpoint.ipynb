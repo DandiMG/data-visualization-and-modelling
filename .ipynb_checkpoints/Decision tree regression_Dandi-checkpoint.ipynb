{
 "cells": [
  {
   "cell_type": "markdown",
   "id": "d58ddbbf",
   "metadata": {},
   "source": [
    "Name: Dandi Gutema\n",
    "Student ID=2101714"
   ]
  },
  {
   "cell_type": "code",
   "execution_count": 36,
   "id": "a9cc3bbf",
   "metadata": {},
   "outputs": [],
   "source": [
    "# Here are the important libraries\n",
    "# Basic libraries\n",
    "import pandas as pd\n",
    "import numpy as np\n",
    "import matplotlib.pyplot as plt\n",
    "import seaborn as sns\n",
    "\n",
    "# Classification performance evaluation\n",
    "from sklearn.model_selection import train_test_split\n",
    "from sklearn.metrics import classification_report,confusion_matrix\n",
    "\n",
    "# Logistic regression\n",
    "from sklearn.linear_model import LogisticRegression\n",
    "\n",
    "# Decision trees\n",
    "from sklearn.tree import DecisionTreeClassifier\n",
    "from sklearn import tree\n",
    "\n",
    "# Random forest classifier\n",
    "from sklearn.ensemble import RandomForestClassifier\n",
    "\n",
    "# Grid search\n",
    "from sklearn.model_selection import GridSearchCV\n",
    "from sklearn.linear_model import LinearRegression\n",
    "from sklearn.ensemble import RandomForestRegressor"
   ]
  },
  {
   "cell_type": "code",
   "execution_count": 2,
   "id": "727bae44",
   "metadata": {
    "scrolled": false
   },
   "outputs": [
    {
     "data": {
      "text/html": [
       "<div>\n",
       "<style scoped>\n",
       "    .dataframe tbody tr th:only-of-type {\n",
       "        vertical-align: middle;\n",
       "    }\n",
       "\n",
       "    .dataframe tbody tr th {\n",
       "        vertical-align: top;\n",
       "    }\n",
       "\n",
       "    .dataframe thead th {\n",
       "        text-align: right;\n",
       "    }\n",
       "</style>\n",
       "<table border=\"1\" class=\"dataframe\">\n",
       "  <thead>\n",
       "    <tr style=\"text-align: right;\">\n",
       "      <th></th>\n",
       "      <th>Area</th>\n",
       "      <th>Rooms</th>\n",
       "      <th>Yard</th>\n",
       "      <th>Floors</th>\n",
       "      <th>Owners</th>\n",
       "      <th>Year</th>\n",
       "      <th>Basement</th>\n",
       "      <th>Attic</th>\n",
       "      <th>Garage</th>\n",
       "      <th>Storage</th>\n",
       "      <th>Guest</th>\n",
       "      <th>Price</th>\n",
       "    </tr>\n",
       "  </thead>\n",
       "  <tbody>\n",
       "    <tr>\n",
       "      <th>0</th>\n",
       "      <td>75523</td>\n",
       "      <td>3</td>\n",
       "      <td>0</td>\n",
       "      <td>63</td>\n",
       "      <td>8</td>\n",
       "      <td>2005</td>\n",
       "      <td>4313</td>\n",
       "      <td>9005</td>\n",
       "      <td>956</td>\n",
       "      <td>0</td>\n",
       "      <td>7</td>\n",
       "      <td>7559081.5</td>\n",
       "    </tr>\n",
       "    <tr>\n",
       "      <th>1</th>\n",
       "      <td>80771</td>\n",
       "      <td>39</td>\n",
       "      <td>1</td>\n",
       "      <td>98</td>\n",
       "      <td>6</td>\n",
       "      <td>2015</td>\n",
       "      <td>3653</td>\n",
       "      <td>2436</td>\n",
       "      <td>128</td>\n",
       "      <td>1</td>\n",
       "      <td>2</td>\n",
       "      <td>8085989.5</td>\n",
       "    </tr>\n",
       "    <tr>\n",
       "      <th>2</th>\n",
       "      <td>55712</td>\n",
       "      <td>58</td>\n",
       "      <td>0</td>\n",
       "      <td>19</td>\n",
       "      <td>8</td>\n",
       "      <td>2021</td>\n",
       "      <td>2937</td>\n",
       "      <td>8852</td>\n",
       "      <td>135</td>\n",
       "      <td>1</td>\n",
       "      <td>9</td>\n",
       "      <td>5574642.1</td>\n",
       "    </tr>\n",
       "    <tr>\n",
       "      <th>3</th>\n",
       "      <td>32316</td>\n",
       "      <td>47</td>\n",
       "      <td>0</td>\n",
       "      <td>6</td>\n",
       "      <td>4</td>\n",
       "      <td>2012</td>\n",
       "      <td>659</td>\n",
       "      <td>7141</td>\n",
       "      <td>359</td>\n",
       "      <td>0</td>\n",
       "      <td>3</td>\n",
       "      <td>3232561.2</td>\n",
       "    </tr>\n",
       "    <tr>\n",
       "      <th>4</th>\n",
       "      <td>70429</td>\n",
       "      <td>19</td>\n",
       "      <td>1</td>\n",
       "      <td>90</td>\n",
       "      <td>7</td>\n",
       "      <td>1990</td>\n",
       "      <td>8435</td>\n",
       "      <td>2429</td>\n",
       "      <td>292</td>\n",
       "      <td>1</td>\n",
       "      <td>4</td>\n",
       "      <td>7055052.0</td>\n",
       "    </tr>\n",
       "    <tr>\n",
       "      <th>5</th>\n",
       "      <td>39223</td>\n",
       "      <td>36</td>\n",
       "      <td>0</td>\n",
       "      <td>17</td>\n",
       "      <td>6</td>\n",
       "      <td>2012</td>\n",
       "      <td>2009</td>\n",
       "      <td>4552</td>\n",
       "      <td>757</td>\n",
       "      <td>0</td>\n",
       "      <td>1</td>\n",
       "      <td>3926647.2</td>\n",
       "    </tr>\n",
       "    <tr>\n",
       "      <th>6</th>\n",
       "      <td>58682</td>\n",
       "      <td>10</td>\n",
       "      <td>1</td>\n",
       "      <td>99</td>\n",
       "      <td>9</td>\n",
       "      <td>1995</td>\n",
       "      <td>5930</td>\n",
       "      <td>9453</td>\n",
       "      <td>848</td>\n",
       "      <td>0</td>\n",
       "      <td>5</td>\n",
       "      <td>5876376.5</td>\n",
       "    </tr>\n",
       "    <tr>\n",
       "      <th>7</th>\n",
       "      <td>86929</td>\n",
       "      <td>100</td>\n",
       "      <td>1</td>\n",
       "      <td>11</td>\n",
       "      <td>4</td>\n",
       "      <td>2003</td>\n",
       "      <td>6326</td>\n",
       "      <td>4748</td>\n",
       "      <td>654</td>\n",
       "      <td>0</td>\n",
       "      <td>10</td>\n",
       "      <td>8696869.3</td>\n",
       "    </tr>\n",
       "    <tr>\n",
       "      <th>8</th>\n",
       "      <td>51522</td>\n",
       "      <td>3</td>\n",
       "      <td>0</td>\n",
       "      <td>61</td>\n",
       "      <td>3</td>\n",
       "      <td>2012</td>\n",
       "      <td>632</td>\n",
       "      <td>5792</td>\n",
       "      <td>807</td>\n",
       "      <td>1</td>\n",
       "      <td>5</td>\n",
       "      <td>5154055.2</td>\n",
       "    </tr>\n",
       "    <tr>\n",
       "      <th>9</th>\n",
       "      <td>39686</td>\n",
       "      <td>42</td>\n",
       "      <td>0</td>\n",
       "      <td>15</td>\n",
       "      <td>8</td>\n",
       "      <td>2021</td>\n",
       "      <td>5198</td>\n",
       "      <td>5342</td>\n",
       "      <td>591</td>\n",
       "      <td>1</td>\n",
       "      <td>3</td>\n",
       "      <td>3970892.1</td>\n",
       "    </tr>\n",
       "  </tbody>\n",
       "</table>\n",
       "</div>"
      ],
      "text/plain": [
       "    Area  Rooms  Yard  Floors  Owners  Year  Basement  Attic  Garage  Storage  \\\n",
       "0  75523      3     0      63       8  2005      4313   9005     956        0   \n",
       "1  80771     39     1      98       6  2015      3653   2436     128        1   \n",
       "2  55712     58     0      19       8  2021      2937   8852     135        1   \n",
       "3  32316     47     0       6       4  2012       659   7141     359        0   \n",
       "4  70429     19     1      90       7  1990      8435   2429     292        1   \n",
       "5  39223     36     0      17       6  2012      2009   4552     757        0   \n",
       "6  58682     10     1      99       9  1995      5930   9453     848        0   \n",
       "7  86929    100     1      11       4  2003      6326   4748     654        0   \n",
       "8  51522      3     0      61       3  2012       632   5792     807        1   \n",
       "9  39686     42     0      15       8  2021      5198   5342     591        1   \n",
       "\n",
       "   Guest      Price  \n",
       "0      7  7559081.5  \n",
       "1      2  8085989.5  \n",
       "2      9  5574642.1  \n",
       "3      3  3232561.2  \n",
       "4      4  7055052.0  \n",
       "5      1  3926647.2  \n",
       "6      5  5876376.5  \n",
       "7     10  8696869.3  \n",
       "8      5  5154055.2  \n",
       "9      3  3970892.1  "
      ]
     },
     "execution_count": 2,
     "metadata": {},
     "output_type": "execute_result"
    }
   ],
   "source": [
    "house= pd.read_csv('House_assignment.csv', index_col=0)\n",
    "\n",
    "house.head(10)\n"
   ]
  },
  {
   "cell_type": "code",
   "execution_count": 3,
   "id": "6d045b3d",
   "metadata": {},
   "outputs": [
    {
     "name": "stdout",
     "output_type": "stream",
     "text": [
      "<class 'pandas.core.frame.DataFrame'>\n",
      "Int64Index: 10000 entries, 0 to 9999\n",
      "Data columns (total 12 columns):\n",
      " #   Column    Non-Null Count  Dtype  \n",
      "---  ------    --------------  -----  \n",
      " 0   Area      10000 non-null  int64  \n",
      " 1   Rooms     10000 non-null  int64  \n",
      " 2   Yard      10000 non-null  int64  \n",
      " 3   Floors    10000 non-null  int64  \n",
      " 4   Owners    10000 non-null  int64  \n",
      " 5   Year      10000 non-null  int64  \n",
      " 6   Basement  10000 non-null  int64  \n",
      " 7   Attic     10000 non-null  int64  \n",
      " 8   Garage    10000 non-null  int64  \n",
      " 9   Storage   10000 non-null  int64  \n",
      " 10  Guest     10000 non-null  int64  \n",
      " 11  Price     10000 non-null  float64\n",
      "dtypes: float64(1), int64(11)\n",
      "memory usage: 1015.6 KB\n"
     ]
    }
   ],
   "source": [
    "house.info()"
   ]
  },
  {
   "cell_type": "code",
   "execution_count": 4,
   "id": "19bb7c69",
   "metadata": {
    "scrolled": true
   },
   "outputs": [
    {
     "data": {
      "text/plain": [
       "Price       1.000000\n",
       "Area        0.999999\n",
       "Owners      0.016619\n",
       "Rooms       0.009591\n",
       "Floors      0.001654\n",
       "Attic      -0.000600\n",
       "Guest      -0.000644\n",
       "Storage    -0.003485\n",
       "Basement   -0.003967\n",
       "Yard       -0.006119\n",
       "Year       -0.007210\n",
       "Garage     -0.017229\n",
       "Name: Price, dtype: float64"
      ]
     },
     "execution_count": 4,
     "metadata": {},
     "output_type": "execute_result"
    }
   ],
   "source": [
    "correlation_house = house.corr()\n",
    "correlation_house['Price'].sort_values(ascending = False)"
   ]
  },
  {
   "cell_type": "code",
   "execution_count": 5,
   "id": "1455bb13",
   "metadata": {},
   "outputs": [
    {
     "data": {
      "text/plain": [
       "(10000, 12)"
      ]
     },
     "execution_count": 5,
     "metadata": {},
     "output_type": "execute_result"
    }
   ],
   "source": [
    "house.shape"
   ]
  },
  {
   "cell_type": "code",
   "execution_count": 45,
   "id": "00c6ad2a",
   "metadata": {},
   "outputs": [
    {
     "data": {
      "text/plain": [
       "<seaborn.axisgrid.JointGrid at 0x15747a66610>"
      ]
     },
     "execution_count": 45,
     "metadata": {},
     "output_type": "execute_result"
    },
    {
     "data": {
      "image/png": "[encoded data removed]",
      "text/plain": [
       "<Figure size 432x432 with 3 Axes>"
      ]
     },
     "metadata": {
      "needs_background": "light"
     },
     "output_type": "display_data"
    }
   ],
   "source": [
    "sns.jointplot(x='Price',y='Area',data=house)"
   ]
  },
  {
   "cell_type": "code",
   "execution_count": 56,
   "id": "0ec24143",
   "metadata": {},
   "outputs": [
    {
     "data": {
      "text/plain": [
       "<AxesSubplot:xlabel='Owners', ylabel='Price'>"
      ]
     },
     "execution_count": 56,
     "metadata": {},
     "output_type": "execute_result"
    },
    {
     "data": {
      "image/png": "[encoded data removed]",
      "text/plain": [
       "<Figure size 432x288 with 1 Axes>"
      ]
     },
     "metadata": {
      "needs_background": "light"
     },
     "output_type": "display_data"
    }
   ],
   "source": [
    "sns.lineplot(x='Owners', y='Price', data=house)"
   ]
  },
  {
   "cell_type": "code",
   "execution_count": 52,
   "id": "b57eedb7",
   "metadata": {},
   "outputs": [
    {
     "data": {
      "text/plain": [
       "<AxesSubplot:xlabel='Price', ylabel='Area'>"
      ]
     },
     "execution_count": 52,
     "metadata": {},
     "output_type": "execute_result"
    },
    {
     "data": {
      "image/png": "[encoded data removed]",
      "text/plain": [
       "<Figure size 432x288 with 1 Axes>"
      ]
     },
     "metadata": {
      "needs_background": "light"
     },
     "output_type": "display_data"
    }
   ],
   "source": [
    "sns.lineplot(x='Price',y='Area',data=house)"
   ]
  },
  {
   "cell_type": "code",
   "execution_count": 9,
   "id": "abc3ed70",
   "metadata": {},
   "outputs": [],
   "source": [
    "from sklearn.tree import DecisionTreeRegressor\n",
    "from sklearn.metrics import mean_squared_error as MSE\n",
    "X = house.drop(['Price'], axis=1)\n",
    "y = house.Price\n",
    "\n",
    "X_train, X_test, y_train, y_test= train_test_split(X, y, test_size=0.2, random_state=42)\n",
    "\n",
    "house_reg = DecisionTreeRegressor(random_state = 0)\n",
    "\n",
    "house_tree_fit = house_reg.fit(X_train, y_train)"
   ]
  },
  {
   "cell_type": "code",
   "execution_count": 10,
   "id": "2d8c74be",
   "metadata": {},
   "outputs": [
    {
     "name": "stdout",
     "output_type": "stream",
     "text": [
      "MSE of unpruned tree is 31819352.914355233\n"
     ]
    }
   ],
   "source": [
    "y_pred = house_tree_fit.predict(X_test)\n",
    "\n",
    "mse_1 = MSE(y_test, y_pred)\n",
    "\n",
    "print('MSE of unpruned tree is', mse_1)"
   ]
  },
  {
   "cell_type": "code",
   "execution_count": 13,
   "id": "a3653e9d",
   "metadata": {
    "scrolled": false
   },
   "outputs": [
    {
     "name": "stdout",
     "output_type": "stream",
     "text": [
      "Depth of the tree:  19\n",
      "Number of nodes in the tree:  15999\n"
     ]
    }
   ],
   "source": [
    "# Number of levels:\n",
    "print('Depth of the tree: ',house_reg.tree_.max_depth)\n",
    "\n",
    "# Number of nodes (total)\n",
    "print('Number of nodes in the tree: ',house_reg.tree_.node_count)\n"
   ]
  },
  {
   "cell_type": "code",
   "execution_count": 32,
   "id": "a4763eb9",
   "metadata": {},
   "outputs": [
    {
     "name": "stdout",
     "output_type": "stream",
     "text": [
      "Best Param: {'max_depth': 12, 'min_samples_leaf': 5}\n"
     ]
    }
   ],
   "source": [
    "##searching for best param of DT\n",
    "param_dt = {'max_depth': [3, 6, 9, 12, 15, 18], 'min_samples_leaf': [5, 10, 15, 20, 25]}\n",
    "\n",
    "grid_dt = GridSearchCV(estimator = house_tree_fit, param_grid=param_dt, scoring='neg_mean_squared_error')\n",
    "\n",
    "grid_result = grid_dt.fit(X_train, y_train)\n",
    "\n",
    "print ('Best Param:', grid_result.best_params_ )"
   ]
  },
  {
   "cell_type": "code",
   "execution_count": 35,
   "id": "2a059f93",
   "metadata": {},
   "outputs": [
    {
     "name": "stdout",
     "output_type": "stream",
     "text": [
      "MSE of pruned tree is 25327499.39398071\n"
     ]
    }
   ],
   "source": [
    "\n",
    "house_reg_2 = DecisionTreeRegressor(max_depth = 12, min_samples_leaf = 5, random_state = 42)\n",
    "\n",
    "house_tree_fit_2 = house_reg_2.fit(X_train, y_train)\n",
    "\n",
    "y_pred = house_tree_fit_2.predict(X_test)\n",
    "\n",
    "mse_2 = MSE(y_test, y_pred)\n",
    "\n",
    "\n",
    "print('MSE of pruned tree is', mse_2)"
   ]
  },
  {
   "cell_type": "code",
   "execution_count": 34,
   "id": "2923ca03",
   "metadata": {},
   "outputs": [
    {
     "name": "stdout",
     "output_type": "stream",
     "text": [
      "MSE of linear regression is 5848370.682656118\n"
     ]
    }
   ],
   "source": [
    "#simple regression\n",
    "house_lr = LinearRegression()\n",
    "\n",
    "house_lr_fit =house_lr.fit(X_train, y_train)\n",
    "\n",
    "y_pred = house_lr_fit.predict(X_test)\n",
    "\n",
    "mse_3 = MSE(y_test, y_pred)\n",
    "\n",
    "# Simple linear regression performs better with MSE 5848370.682656118\n",
    "\n",
    "print('MSE of linear regression is', mse_3)"
   ]
  },
  {
   "cell_type": "code",
   "execution_count": 38,
   "id": "74af3250",
   "metadata": {},
   "outputs": [
    {
     "name": "stdout",
     "output_type": "stream",
     "text": [
      "MSE of random forests is 15674610.746328559\n"
     ]
    }
   ],
   "source": [
    "house_rf = RandomForestRegressor(n_estimators = 200, random_state = 42)\n",
    "                                     \n",
    "house_rf.fit(X_train, y_train)  \n",
    "y_pred_rf = house_rf.predict(X_test)\n",
    "\n",
    "mse_rf = MSE(y_test, y_pred_rf)\n",
    "\n",
    "print('MSE of random forests is', mse_rf)"
   ]
  },
  {
   "cell_type": "code",
   "execution_count": 57,
   "id": "f518ca7b",
   "metadata": {},
   "outputs": [
    {
     "name": "stdout",
     "output_type": "stream",
     "text": [
      "Best result is obtained using {'max_depth': 12, 'min_samples_leaf': 5}\n"
     ]
    }
   ],
   "source": [
    "# seraching for optimum parameter \n",
    "\n",
    "\n",
    "grid = dict(max_depth = [4, 6, 8, 10,12 ,14, 16, 18], min_samples_leaf = [5,10, 15, 20,25])\n",
    "\n",
    "forest_house = RandomForestRegressor(n_estimators = 200, random_state = 42)\n",
    "\n",
    "grid_search = GridSearchCV(estimator=forest_house, param_grid=grid, scoring='neg_mean_squared_error')\n",
    "\n",
    "grid_result = grid_search.fit(X, y)\n",
    "\n",
    "\n",
    "print(\"Best result is obtained using\", grid_result.best_params_)"
   ]
  },
  {
   "cell_type": "code",
   "execution_count": 59,
   "id": "643e7522",
   "metadata": {},
   "outputs": [
    {
     "name": "stdout",
     "output_type": "stream",
     "text": [
      "MSE of random forests is 15329220.394034412\n"
     ]
    }
   ],
   "source": [
    "##optimized Random forest model\n",
    "house_rf_2 = RandomForestRegressor(n_estimators = 200, max_depth = 12, min_samples_leaf = 5, random_state = 42)\n",
    "                                     \n",
    "house_rf_fit_2 =house_rf_2.fit(X_train, y_train)  \n",
    "\n",
    "y_pred_rf_2 = house_rf_fit_2.predict(X_test)\n",
    "\n",
    "mse_rf_2 = MSE(y_test, y_pred_rf_2)\n",
    "\n",
    "print('MSE of random forests is', mse_rf_2)\n",
    "#the optimized random forest MSE values is improved than the unoptimized one."
   ]
  },
  {
   "cell_type": "code",
   "execution_count": null,
   "id": "3158e551",
   "metadata": {},
   "outputs": [],
   "source": [
    "#the linear regression MSE value which is lower than all models MSE values with the score of 5848370.68 performs best\n",
    "#The optimized random forest model with MSE = 15329220.394034412 is also good.\n",
    "## So, the linear regression perform better than all."
   ]
  }
 ],
 "metadata": {
  "kernelspec": {
   "display_name": "Python 3 (ipykernel)",
   "language": "python",
   "name": "python3"
  },
  "language_info": {
   "codemirror_mode": {
    "name": "ipython",
    "version": 3
   },
   "file_extension": ".py",
   "mimetype": "text/x-python",
   "name": "python",
   "nbconvert_exporter": "python",
   "pygments_lexer": "ipython3",
   "version": "3.9.12"
  }
 },
 "nbformat": 4,
 "nbformat_minor": 5
}
