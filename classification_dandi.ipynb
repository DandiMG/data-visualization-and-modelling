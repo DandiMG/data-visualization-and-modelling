{
 "cells": [
  {
   "cell_type": "markdown",
   "id": "07ceefd4",
   "metadata": {},
   "source": [
    "Name: Dandi Gutema\n",
    "Student ID=2101714"
   ]
  },
  {
   "cell_type": "code",
   "execution_count": 54,
   "id": "9e062244",
   "metadata": {},
   "outputs": [],
   "source": [
    "# Loading all the necessary libraries\n",
    "import pandas as pd\n",
    "import numpy as np\n",
    "import seaborn as sns\n",
    "import matplotlib.pyplot as plt\n",
    "\n",
    "from sklearn.linear_model import LogisticRegression\n",
    "from sklearn.model_selection import train_test_split\n",
    "from sklearn.metrics import confusion_matrix, classification_report\n",
    "from sklearn.tree import DecisionTreeClassifier\n",
    "from sklearn import tree\n",
    "from sklearn.ensemble import BaggingClassifier\n",
    "import sklearn\n",
    "\n",
    "from sklearn.model_selection import GridSearchCV\n",
    "from sklearn.ensemble import RandomForestClassifier\n",
    "from sklearn.ensemble import RandomForestRegressor\n",
    "from sklearn.metrics import mean_squared_error as mse\n",
    "from sklearn.tree import DecisionTreeRegressor"
   ]
  },
  {
   "cell_type": "code",
   "execution_count": 55,
   "id": "b3c8564b",
   "metadata": {
    "scrolled": true
   },
   "outputs": [
    {
     "data": {
      "text/html": [
       "<div>\n",
       "<style scoped>\n",
       "    .dataframe tbody tr th:only-of-type {\n",
       "        vertical-align: middle;\n",
       "    }\n",
       "\n",
       "    .dataframe tbody tr th {\n",
       "        vertical-align: top;\n",
       "    }\n",
       "\n",
       "    .dataframe thead th {\n",
       "        text-align: right;\n",
       "    }\n",
       "</style>\n",
       "<table border=\"1\" class=\"dataframe\">\n",
       "  <thead>\n",
       "    <tr style=\"text-align: right;\">\n",
       "      <th></th>\n",
       "      <th>age</th>\n",
       "      <th>gender</th>\n",
       "      <th>pain</th>\n",
       "      <th>blood_pressure</th>\n",
       "      <th>cholesterol</th>\n",
       "      <th>blood_sugar</th>\n",
       "      <th>heart_rate</th>\n",
       "      <th>exercise</th>\n",
       "      <th>outcome</th>\n",
       "    </tr>\n",
       "  </thead>\n",
       "  <tbody>\n",
       "    <tr>\n",
       "      <th>0</th>\n",
       "      <td>63</td>\n",
       "      <td>1</td>\n",
       "      <td>3</td>\n",
       "      <td>145</td>\n",
       "      <td>233</td>\n",
       "      <td>1</td>\n",
       "      <td>150</td>\n",
       "      <td>0</td>\n",
       "      <td>1</td>\n",
       "    </tr>\n",
       "    <tr>\n",
       "      <th>1</th>\n",
       "      <td>37</td>\n",
       "      <td>1</td>\n",
       "      <td>2</td>\n",
       "      <td>130</td>\n",
       "      <td>250</td>\n",
       "      <td>0</td>\n",
       "      <td>187</td>\n",
       "      <td>0</td>\n",
       "      <td>1</td>\n",
       "    </tr>\n",
       "    <tr>\n",
       "      <th>2</th>\n",
       "      <td>41</td>\n",
       "      <td>0</td>\n",
       "      <td>1</td>\n",
       "      <td>130</td>\n",
       "      <td>204</td>\n",
       "      <td>0</td>\n",
       "      <td>172</td>\n",
       "      <td>0</td>\n",
       "      <td>1</td>\n",
       "    </tr>\n",
       "    <tr>\n",
       "      <th>3</th>\n",
       "      <td>56</td>\n",
       "      <td>1</td>\n",
       "      <td>1</td>\n",
       "      <td>120</td>\n",
       "      <td>236</td>\n",
       "      <td>0</td>\n",
       "      <td>178</td>\n",
       "      <td>0</td>\n",
       "      <td>1</td>\n",
       "    </tr>\n",
       "    <tr>\n",
       "      <th>4</th>\n",
       "      <td>57</td>\n",
       "      <td>0</td>\n",
       "      <td>0</td>\n",
       "      <td>120</td>\n",
       "      <td>354</td>\n",
       "      <td>0</td>\n",
       "      <td>163</td>\n",
       "      <td>1</td>\n",
       "      <td>1</td>\n",
       "    </tr>\n",
       "  </tbody>\n",
       "</table>\n",
       "</div>"
      ],
      "text/plain": [
       "   age  gender  pain  blood_pressure  cholesterol  blood_sugar  heart_rate  \\\n",
       "0   63       1     3             145          233            1         150   \n",
       "1   37       1     2             130          250            0         187   \n",
       "2   41       0     1             130          204            0         172   \n",
       "3   56       1     1             120          236            0         178   \n",
       "4   57       0     0             120          354            0         163   \n",
       "\n",
       "   exercise  outcome  \n",
       "0         0        1  \n",
       "1         0        1  \n",
       "2         0        1  \n",
       "3         0        1  \n",
       "4         1        1  "
      ]
     },
     "execution_count": 55,
     "metadata": {},
     "output_type": "execute_result"
    }
   ],
   "source": [
    "# Importing data\n",
    "patient = pd.read_csv('patients.csv')\n",
    "patient.head()"
   ]
  },
  {
   "cell_type": "code",
   "execution_count": 56,
   "id": "4794fe8d",
   "metadata": {},
   "outputs": [
    {
     "data": {
      "text/plain": [
       "age               0\n",
       "gender            0\n",
       "pain              0\n",
       "blood_pressure    0\n",
       "cholesterol       0\n",
       "blood_sugar       0\n",
       "heart_rate        0\n",
       "exercise          0\n",
       "outcome           0\n",
       "dtype: int64"
      ]
     },
     "execution_count": 56,
     "metadata": {},
     "output_type": "execute_result"
    }
   ],
   "source": [
    "# No missing values\n",
    "patient.isna().sum()"
   ]
  },
  {
   "cell_type": "code",
   "execution_count": 57,
   "id": "b007ad91",
   "metadata": {
    "scrolled": true
   },
   "outputs": [
    {
     "data": {
      "text/html": [
       "<div>\n",
       "<style scoped>\n",
       "    .dataframe tbody tr th:only-of-type {\n",
       "        vertical-align: middle;\n",
       "    }\n",
       "\n",
       "    .dataframe tbody tr th {\n",
       "        vertical-align: top;\n",
       "    }\n",
       "\n",
       "    .dataframe thead th {\n",
       "        text-align: right;\n",
       "    }\n",
       "</style>\n",
       "<table border=\"1\" class=\"dataframe\">\n",
       "  <thead>\n",
       "    <tr style=\"text-align: right;\">\n",
       "      <th></th>\n",
       "      <th>age</th>\n",
       "      <th>gender</th>\n",
       "      <th>pain</th>\n",
       "      <th>blood_pressure</th>\n",
       "      <th>cholesterol</th>\n",
       "      <th>blood_sugar</th>\n",
       "      <th>heart_rate</th>\n",
       "      <th>exercise</th>\n",
       "      <th>outcome</th>\n",
       "    </tr>\n",
       "  </thead>\n",
       "  <tbody>\n",
       "    <tr>\n",
       "      <th>count</th>\n",
       "      <td>303.000000</td>\n",
       "      <td>303.000000</td>\n",
       "      <td>303.000000</td>\n",
       "      <td>303.000000</td>\n",
       "      <td>303.000000</td>\n",
       "      <td>303.000000</td>\n",
       "      <td>303.000000</td>\n",
       "      <td>303.000000</td>\n",
       "      <td>303.000000</td>\n",
       "    </tr>\n",
       "    <tr>\n",
       "      <th>mean</th>\n",
       "      <td>54.366337</td>\n",
       "      <td>0.683168</td>\n",
       "      <td>0.966997</td>\n",
       "      <td>131.623762</td>\n",
       "      <td>246.264026</td>\n",
       "      <td>0.148515</td>\n",
       "      <td>149.646865</td>\n",
       "      <td>0.326733</td>\n",
       "      <td>0.544554</td>\n",
       "    </tr>\n",
       "    <tr>\n",
       "      <th>std</th>\n",
       "      <td>9.082101</td>\n",
       "      <td>0.466011</td>\n",
       "      <td>1.032052</td>\n",
       "      <td>17.538143</td>\n",
       "      <td>51.830751</td>\n",
       "      <td>0.356198</td>\n",
       "      <td>22.905161</td>\n",
       "      <td>0.469794</td>\n",
       "      <td>0.498835</td>\n",
       "    </tr>\n",
       "    <tr>\n",
       "      <th>min</th>\n",
       "      <td>29.000000</td>\n",
       "      <td>0.000000</td>\n",
       "      <td>0.000000</td>\n",
       "      <td>94.000000</td>\n",
       "      <td>126.000000</td>\n",
       "      <td>0.000000</td>\n",
       "      <td>71.000000</td>\n",
       "      <td>0.000000</td>\n",
       "      <td>0.000000</td>\n",
       "    </tr>\n",
       "    <tr>\n",
       "      <th>25%</th>\n",
       "      <td>47.500000</td>\n",
       "      <td>0.000000</td>\n",
       "      <td>0.000000</td>\n",
       "      <td>120.000000</td>\n",
       "      <td>211.000000</td>\n",
       "      <td>0.000000</td>\n",
       "      <td>133.500000</td>\n",
       "      <td>0.000000</td>\n",
       "      <td>0.000000</td>\n",
       "    </tr>\n",
       "    <tr>\n",
       "      <th>50%</th>\n",
       "      <td>55.000000</td>\n",
       "      <td>1.000000</td>\n",
       "      <td>1.000000</td>\n",
       "      <td>130.000000</td>\n",
       "      <td>240.000000</td>\n",
       "      <td>0.000000</td>\n",
       "      <td>153.000000</td>\n",
       "      <td>0.000000</td>\n",
       "      <td>1.000000</td>\n",
       "    </tr>\n",
       "    <tr>\n",
       "      <th>75%</th>\n",
       "      <td>61.000000</td>\n",
       "      <td>1.000000</td>\n",
       "      <td>2.000000</td>\n",
       "      <td>140.000000</td>\n",
       "      <td>274.500000</td>\n",
       "      <td>0.000000</td>\n",
       "      <td>166.000000</td>\n",
       "      <td>1.000000</td>\n",
       "      <td>1.000000</td>\n",
       "    </tr>\n",
       "    <tr>\n",
       "      <th>max</th>\n",
       "      <td>77.000000</td>\n",
       "      <td>1.000000</td>\n",
       "      <td>3.000000</td>\n",
       "      <td>200.000000</td>\n",
       "      <td>564.000000</td>\n",
       "      <td>1.000000</td>\n",
       "      <td>202.000000</td>\n",
       "      <td>1.000000</td>\n",
       "      <td>1.000000</td>\n",
       "    </tr>\n",
       "  </tbody>\n",
       "</table>\n",
       "</div>"
      ],
      "text/plain": [
       "              age      gender        pain  blood_pressure  cholesterol  \\\n",
       "count  303.000000  303.000000  303.000000      303.000000   303.000000   \n",
       "mean    54.366337    0.683168    0.966997      131.623762   246.264026   \n",
       "std      9.082101    0.466011    1.032052       17.538143    51.830751   \n",
       "min     29.000000    0.000000    0.000000       94.000000   126.000000   \n",
       "25%     47.500000    0.000000    0.000000      120.000000   211.000000   \n",
       "50%     55.000000    1.000000    1.000000      130.000000   240.000000   \n",
       "75%     61.000000    1.000000    2.000000      140.000000   274.500000   \n",
       "max     77.000000    1.000000    3.000000      200.000000   564.000000   \n",
       "\n",
       "       blood_sugar  heart_rate    exercise     outcome  \n",
       "count   303.000000  303.000000  303.000000  303.000000  \n",
       "mean      0.148515  149.646865    0.326733    0.544554  \n",
       "std       0.356198   22.905161    0.469794    0.498835  \n",
       "min       0.000000   71.000000    0.000000    0.000000  \n",
       "25%       0.000000  133.500000    0.000000    0.000000  \n",
       "50%       0.000000  153.000000    0.000000    1.000000  \n",
       "75%       0.000000  166.000000    1.000000    1.000000  \n",
       "max       1.000000  202.000000    1.000000    1.000000  "
      ]
     },
     "execution_count": 57,
     "metadata": {},
     "output_type": "execute_result"
    }
   ],
   "source": [
    "patient.describe()"
   ]
  },
  {
   "cell_type": "code",
   "execution_count": 58,
   "id": "2640a3b5",
   "metadata": {
    "scrolled": false
   },
   "outputs": [
    {
     "data": {
      "text/plain": [
       "age                54.366337\n",
       "gender              0.683168\n",
       "pain                0.966997\n",
       "blood_pressure    131.623762\n",
       "cholesterol       246.264026\n",
       "blood_sugar         0.148515\n",
       "heart_rate        149.646865\n",
       "exercise            0.326733\n",
       "outcome             0.544554\n",
       "dtype: float64"
      ]
     },
     "execution_count": 58,
     "metadata": {},
     "output_type": "execute_result"
    }
   ],
   "source": [
    "patient.mean()"
   ]
  },
  {
   "cell_type": "code",
   "execution_count": 59,
   "id": "a07e079a",
   "metadata": {
    "scrolled": true
   },
   "outputs": [
    {
     "data": {
      "text/html": [
       "<div>\n",
       "<style scoped>\n",
       "    .dataframe tbody tr th:only-of-type {\n",
       "        vertical-align: middle;\n",
       "    }\n",
       "\n",
       "    .dataframe tbody tr th {\n",
       "        vertical-align: top;\n",
       "    }\n",
       "\n",
       "    .dataframe thead th {\n",
       "        text-align: right;\n",
       "    }\n",
       "</style>\n",
       "<table border=\"1\" class=\"dataframe\">\n",
       "  <thead>\n",
       "    <tr style=\"text-align: right;\">\n",
       "      <th></th>\n",
       "      <th>age</th>\n",
       "      <th>gender</th>\n",
       "      <th>pain</th>\n",
       "      <th>blood_pressure</th>\n",
       "      <th>cholesterol</th>\n",
       "      <th>blood_sugar</th>\n",
       "      <th>heart_rate</th>\n",
       "      <th>exercise</th>\n",
       "      <th>outcome</th>\n",
       "    </tr>\n",
       "  </thead>\n",
       "  <tbody>\n",
       "    <tr>\n",
       "      <th>age</th>\n",
       "      <td>1.000000</td>\n",
       "      <td>-0.098447</td>\n",
       "      <td>-0.068653</td>\n",
       "      <td>0.279351</td>\n",
       "      <td>0.213678</td>\n",
       "      <td>0.121308</td>\n",
       "      <td>-0.398522</td>\n",
       "      <td>0.096801</td>\n",
       "      <td>-0.225439</td>\n",
       "    </tr>\n",
       "    <tr>\n",
       "      <th>gender</th>\n",
       "      <td>-0.098447</td>\n",
       "      <td>1.000000</td>\n",
       "      <td>-0.049353</td>\n",
       "      <td>-0.056769</td>\n",
       "      <td>-0.197912</td>\n",
       "      <td>0.045032</td>\n",
       "      <td>-0.044020</td>\n",
       "      <td>0.141664</td>\n",
       "      <td>-0.280937</td>\n",
       "    </tr>\n",
       "    <tr>\n",
       "      <th>pain</th>\n",
       "      <td>-0.068653</td>\n",
       "      <td>-0.049353</td>\n",
       "      <td>1.000000</td>\n",
       "      <td>0.047608</td>\n",
       "      <td>-0.076904</td>\n",
       "      <td>0.094444</td>\n",
       "      <td>0.295762</td>\n",
       "      <td>-0.394280</td>\n",
       "      <td>0.433798</td>\n",
       "    </tr>\n",
       "    <tr>\n",
       "      <th>blood_pressure</th>\n",
       "      <td>0.279351</td>\n",
       "      <td>-0.056769</td>\n",
       "      <td>0.047608</td>\n",
       "      <td>1.000000</td>\n",
       "      <td>0.123174</td>\n",
       "      <td>0.177531</td>\n",
       "      <td>-0.046698</td>\n",
       "      <td>0.067616</td>\n",
       "      <td>-0.144931</td>\n",
       "    </tr>\n",
       "    <tr>\n",
       "      <th>cholesterol</th>\n",
       "      <td>0.213678</td>\n",
       "      <td>-0.197912</td>\n",
       "      <td>-0.076904</td>\n",
       "      <td>0.123174</td>\n",
       "      <td>1.000000</td>\n",
       "      <td>0.013294</td>\n",
       "      <td>-0.009940</td>\n",
       "      <td>0.067023</td>\n",
       "      <td>-0.085239</td>\n",
       "    </tr>\n",
       "    <tr>\n",
       "      <th>blood_sugar</th>\n",
       "      <td>0.121308</td>\n",
       "      <td>0.045032</td>\n",
       "      <td>0.094444</td>\n",
       "      <td>0.177531</td>\n",
       "      <td>0.013294</td>\n",
       "      <td>1.000000</td>\n",
       "      <td>-0.008567</td>\n",
       "      <td>0.025665</td>\n",
       "      <td>-0.028046</td>\n",
       "    </tr>\n",
       "    <tr>\n",
       "      <th>heart_rate</th>\n",
       "      <td>-0.398522</td>\n",
       "      <td>-0.044020</td>\n",
       "      <td>0.295762</td>\n",
       "      <td>-0.046698</td>\n",
       "      <td>-0.009940</td>\n",
       "      <td>-0.008567</td>\n",
       "      <td>1.000000</td>\n",
       "      <td>-0.378812</td>\n",
       "      <td>0.421741</td>\n",
       "    </tr>\n",
       "    <tr>\n",
       "      <th>exercise</th>\n",
       "      <td>0.096801</td>\n",
       "      <td>0.141664</td>\n",
       "      <td>-0.394280</td>\n",
       "      <td>0.067616</td>\n",
       "      <td>0.067023</td>\n",
       "      <td>0.025665</td>\n",
       "      <td>-0.378812</td>\n",
       "      <td>1.000000</td>\n",
       "      <td>-0.436757</td>\n",
       "    </tr>\n",
       "    <tr>\n",
       "      <th>outcome</th>\n",
       "      <td>-0.225439</td>\n",
       "      <td>-0.280937</td>\n",
       "      <td>0.433798</td>\n",
       "      <td>-0.144931</td>\n",
       "      <td>-0.085239</td>\n",
       "      <td>-0.028046</td>\n",
       "      <td>0.421741</td>\n",
       "      <td>-0.436757</td>\n",
       "      <td>1.000000</td>\n",
       "    </tr>\n",
       "  </tbody>\n",
       "</table>\n",
       "</div>"
      ],
      "text/plain": [
       "                     age    gender      pain  blood_pressure  cholesterol  \\\n",
       "age             1.000000 -0.098447 -0.068653        0.279351     0.213678   \n",
       "gender         -0.098447  1.000000 -0.049353       -0.056769    -0.197912   \n",
       "pain           -0.068653 -0.049353  1.000000        0.047608    -0.076904   \n",
       "blood_pressure  0.279351 -0.056769  0.047608        1.000000     0.123174   \n",
       "cholesterol     0.213678 -0.197912 -0.076904        0.123174     1.000000   \n",
       "blood_sugar     0.121308  0.045032  0.094444        0.177531     0.013294   \n",
       "heart_rate     -0.398522 -0.044020  0.295762       -0.046698    -0.009940   \n",
       "exercise        0.096801  0.141664 -0.394280        0.067616     0.067023   \n",
       "outcome        -0.225439 -0.280937  0.433798       -0.144931    -0.085239   \n",
       "\n",
       "                blood_sugar  heart_rate  exercise   outcome  \n",
       "age                0.121308   -0.398522  0.096801 -0.225439  \n",
       "gender             0.045032   -0.044020  0.141664 -0.280937  \n",
       "pain               0.094444    0.295762 -0.394280  0.433798  \n",
       "blood_pressure     0.177531   -0.046698  0.067616 -0.144931  \n",
       "cholesterol        0.013294   -0.009940  0.067023 -0.085239  \n",
       "blood_sugar        1.000000   -0.008567  0.025665 -0.028046  \n",
       "heart_rate        -0.008567    1.000000 -0.378812  0.421741  \n",
       "exercise           0.025665   -0.378812  1.000000 -0.436757  \n",
       "outcome           -0.028046    0.421741 -0.436757  1.000000  "
      ]
     },
     "execution_count": 59,
     "metadata": {},
     "output_type": "execute_result"
    }
   ],
   "source": [
    "patient.corr()"
   ]
  },
  {
   "cell_type": "code",
   "execution_count": 60,
   "id": "6828c339",
   "metadata": {
    "scrolled": true
   },
   "outputs": [
    {
     "data": {
      "text/plain": [
       "1    165\n",
       "0    138\n",
       "Name: outcome, dtype: int64"
      ]
     },
     "execution_count": 60,
     "metadata": {},
     "output_type": "execute_result"
    }
   ],
   "source": [
    "patient.outcome.value_counts()"
   ]
  },
  {
   "cell_type": "code",
   "execution_count": 61,
   "id": "538468bc",
   "metadata": {
    "scrolled": true
   },
   "outputs": [
    {
     "data": {
      "text/html": [
       "<div>\n",
       "<style scoped>\n",
       "    .dataframe tbody tr th:only-of-type {\n",
       "        vertical-align: middle;\n",
       "    }\n",
       "\n",
       "    .dataframe tbody tr th {\n",
       "        vertical-align: top;\n",
       "    }\n",
       "\n",
       "    .dataframe thead th {\n",
       "        text-align: right;\n",
       "    }\n",
       "</style>\n",
       "<table border=\"1\" class=\"dataframe\">\n",
       "  <thead>\n",
       "    <tr style=\"text-align: right;\">\n",
       "      <th></th>\n",
       "      <th>age</th>\n",
       "      <th>gender</th>\n",
       "      <th>pain</th>\n",
       "      <th>blood_pressure</th>\n",
       "      <th>cholesterol</th>\n",
       "      <th>blood_sugar</th>\n",
       "      <th>heart_rate</th>\n",
       "      <th>exercise</th>\n",
       "    </tr>\n",
       "    <tr>\n",
       "      <th>outcome</th>\n",
       "      <th></th>\n",
       "      <th></th>\n",
       "      <th></th>\n",
       "      <th></th>\n",
       "      <th></th>\n",
       "      <th></th>\n",
       "      <th></th>\n",
       "      <th></th>\n",
       "    </tr>\n",
       "  </thead>\n",
       "  <tbody>\n",
       "    <tr>\n",
       "      <th>0</th>\n",
       "      <td>56.601449</td>\n",
       "      <td>0.826087</td>\n",
       "      <td>0.478261</td>\n",
       "      <td>134.398551</td>\n",
       "      <td>251.086957</td>\n",
       "      <td>0.159420</td>\n",
       "      <td>139.101449</td>\n",
       "      <td>0.550725</td>\n",
       "    </tr>\n",
       "    <tr>\n",
       "      <th>1</th>\n",
       "      <td>52.496970</td>\n",
       "      <td>0.563636</td>\n",
       "      <td>1.375758</td>\n",
       "      <td>129.303030</td>\n",
       "      <td>242.230303</td>\n",
       "      <td>0.139394</td>\n",
       "      <td>158.466667</td>\n",
       "      <td>0.139394</td>\n",
       "    </tr>\n",
       "  </tbody>\n",
       "</table>\n",
       "</div>"
      ],
      "text/plain": [
       "               age    gender      pain  blood_pressure  cholesterol  \\\n",
       "outcome                                                               \n",
       "0        56.601449  0.826087  0.478261      134.398551   251.086957   \n",
       "1        52.496970  0.563636  1.375758      129.303030   242.230303   \n",
       "\n",
       "         blood_sugar  heart_rate  exercise  \n",
       "outcome                                     \n",
       "0           0.159420  139.101449  0.550725  \n",
       "1           0.139394  158.466667  0.139394  "
      ]
     },
     "execution_count": 61,
     "metadata": {},
     "output_type": "execute_result"
    }
   ],
   "source": [
    "patient.groupby('outcome').mean()"
   ]
  },
  {
   "cell_type": "code",
   "execution_count": 62,
   "id": "7fbf6f5b",
   "metadata": {
    "scrolled": true
   },
   "outputs": [
    {
     "data": {
      "text/plain": [
       "<AxesSubplot:xlabel='pain', ylabel='heart_rate'>"
      ]
     },
     "execution_count": 62,
     "metadata": {},
     "output_type": "execute_result"
    },
    {
     "data": {
      "image/png": "[encoded data removed]",
      "text/plain": [
       "<Figure size 432x288 with 1 Axes>"
      ]
     },
     "metadata": {
      "needs_background": "light"
     },
     "output_type": "display_data"
    }
   ],
   "source": [
    "sns.scatterplot(x= 'pain', y='heart_rate', hue='outcome', data=patient)"
   ]
  },
  {
   "cell_type": "code",
   "execution_count": 63,
   "id": "c5eb9075",
   "metadata": {
    "scrolled": true
   },
   "outputs": [
    {
     "data": {
      "text/plain": [
       "<AxesSubplot:xlabel='age', ylabel='blood_pressure'>"
      ]
     },
     "execution_count": 63,
     "metadata": {},
     "output_type": "execute_result"
    },
    {
     "data": {
      "image/png": "[encoded data removed]",
      "text/plain": [
       "<Figure size 432x288 with 1 Axes>"
      ]
     },
     "metadata": {
      "needs_background": "light"
     },
     "output_type": "display_data"
    }
   ],
   "source": [
    "sns.scatterplot(x= 'age', y='blood_pressure', hue='outcome', data=patient)"
   ]
  },
  {
   "cell_type": "code",
   "execution_count": 64,
   "id": "c4dc3213",
   "metadata": {
    "scrolled": true
   },
   "outputs": [
    {
     "data": {
      "text/plain": [
       "<AxesSubplot:xlabel='outcome', ylabel='exercise'>"
      ]
     },
     "execution_count": 64,
     "metadata": {},
     "output_type": "execute_result"
    },
    {
     "data": {
      "image/png": "[encoded data removed]",
      "text/plain": [
       "<Figure size 432x288 with 1 Axes>"
      ]
     },
     "metadata": {
      "needs_background": "light"
     },
     "output_type": "display_data"
    }
   ],
   "source": [
    "sns.boxplot(x='outcome', y='exercise', data=patient)"
   ]
  },
  {
   "cell_type": "code",
   "execution_count": 65,
   "id": "40f04149",
   "metadata": {
    "scrolled": true
   },
   "outputs": [
    {
     "data": {
      "text/plain": [
       "<AxesSubplot:xlabel='outcome', ylabel='exercise'>"
      ]
     },
     "execution_count": 65,
     "metadata": {},
     "output_type": "execute_result"
    },
    {
     "data": {
      "image/png": "[encoded data removed]",
      "text/plain": [
       "<Figure size 432x288 with 1 Axes>"
      ]
     },
     "metadata": {
      "needs_background": "light"
     },
     "output_type": "display_data"
    }
   ],
   "source": [
    "sns.lineplot(x='outcome', y='exercise', data=patient)"
   ]
  },
  {
   "cell_type": "code",
   "execution_count": 66,
   "id": "6a6b9e21",
   "metadata": {
    "scrolled": false
   },
   "outputs": [
    {
     "data": {
      "text/plain": [
       "<AxesSubplot:xlabel='outcome', ylabel='heart_rate'>"
      ]
     },
     "execution_count": 66,
     "metadata": {},
     "output_type": "execute_result"
    },
    {
     "data": {
      "image/png": "[encoded data removed]",
      "text/plain": [
       "<Figure size 432x288 with 1 Axes>"
      ]
     },
     "metadata": {
      "needs_background": "light"
     },
     "output_type": "display_data"
    }
   ],
   "source": [
    "sns.lineplot(x='outcome', y='heart_rate', data=patient)"
   ]
  },
  {
   "cell_type": "code",
   "execution_count": 67,
   "id": "50c3ffdd",
   "metadata": {
    "scrolled": true
   },
   "outputs": [
    {
     "data": {
      "text/plain": [
       "<AxesSubplot:xlabel='outcome', ylabel='gender'>"
      ]
     },
     "execution_count": 67,
     "metadata": {},
     "output_type": "execute_result"
    },
    {
     "data": {
      "image/png": "[encoded data removed]",
      "text/plain": [
       "<Figure size 432x288 with 1 Axes>"
      ]
     },
     "metadata": {
      "needs_background": "light"
     },
     "output_type": "display_data"
    }
   ],
   "source": [
    "sns.histplot(x='outcome', y='gender', data=patient)"
   ]
  },
  {
   "cell_type": "code",
   "execution_count": 68,
   "id": "6a093be6",
   "metadata": {},
   "outputs": [
    {
     "data": {
      "text/plain": [
       "<seaborn.axisgrid.JointGrid at 0x29466cb6280>"
      ]
     },
     "execution_count": 68,
     "metadata": {},
     "output_type": "execute_result"
    },
    {
     "data": {
      "image/png": "[encoded data removed]",
      "text/plain": [
       "<Figure size 432x432 with 3 Axes>"
      ]
     },
     "metadata": {
      "needs_background": "light"
     },
     "output_type": "display_data"
    }
   ],
   "source": [
    "sns.jointplot(x='outcome',y='age',data=patient)"
   ]
  },
  {
   "cell_type": "code",
   "execution_count": 69,
   "id": "9744a6c2",
   "metadata": {},
   "outputs": [],
   "source": [
    "# Creating training and test set\n",
    "X = patient.drop(['outcome'], axis=1)\n",
    "y = patient.outcome\n",
    "\n",
    "X_train, X_test, y_train, y_test = train_test_split(X, y, test_size = 0.25, random_state = 42)"
   ]
  },
  {
   "cell_type": "code",
   "execution_count": 71,
   "id": "826f159e",
   "metadata": {},
   "outputs": [
    {
     "name": "stdout",
     "output_type": "stream",
     "text": [
      "[[28  7]\n",
      " [ 7 34]]\n",
      "              precision    recall  f1-score   support\n",
      "\n",
      "           0       0.80      0.80      0.80        35\n",
      "           1       0.83      0.83      0.83        41\n",
      "\n",
      "    accuracy                           0.82        76\n",
      "   macro avg       0.81      0.81      0.81        76\n",
      "weighted avg       0.82      0.82      0.82        76\n",
      "\n"
     ]
    },
    {
     "name": "stderr",
     "output_type": "stream",
     "text": [
      "C:\\Users\\dandi\\anaconda3\\lib\\site-packages\\sklearn\\linear_model\\_logistic.py:814: ConvergenceWarning: lbfgs failed to converge (status=1):\n",
      "STOP: TOTAL NO. of ITERATIONS REACHED LIMIT.\n",
      "\n",
      "Increase the number of iterations (max_iter) or scale the data as shown in:\n",
      "    https://scikit-learn.org/stable/modules/preprocessing.html\n",
      "Please also refer to the documentation for alternative solver options:\n",
      "    https://scikit-learn.org/stable/modules/linear_model.html#logistic-regression\n",
      "  n_iter_i = _check_optimize_result(\n"
     ]
    }
   ],
   "source": [
    "# logistic regresssion \n",
    "logit_patient = LogisticRegression(random_state=42)\n",
    "logit_patient.fit(X_train, y_train)\n",
    "pred_patient = logit_patient.predict(X_test)\n",
    "\n",
    "print (confusion_matrix(y_test,pred_patient))\n",
    "print (classification_report(y_test, pred_patient))\n",
    "\n",
    "\n",
    "# the accuracy for logistic regression is 0.82"
   ]
  },
  {
   "cell_type": "code",
   "execution_count": 72,
   "id": "ba0d14e0",
   "metadata": {
    "scrolled": false
   },
   "outputs": [
    {
     "name": "stdout",
     "output_type": "stream",
     "text": [
      "[[26  9]\n",
      " [ 8 33]]\n",
      "              precision    recall  f1-score   support\n",
      "\n",
      "           0       0.76      0.74      0.75        35\n",
      "           1       0.79      0.80      0.80        41\n",
      "\n",
      "    accuracy                           0.78        76\n",
      "   macro avg       0.78      0.77      0.77        76\n",
      "weighted avg       0.78      0.78      0.78        76\n",
      "\n"
     ]
    }
   ],
   "source": [
    "# Decision tree model\n",
    "\n",
    "tree_patient = DecisionTreeClassifier(random_state = 42)\n",
    "\n",
    "base_patient = tree_patient.fit(X_train, y_train)\n",
    "\n",
    "base_patient_pred = base_patient.predict(X_test)\n",
    "\n",
    "print(confusion_matrix(y_test ,base_patient_pred)) \n",
    "print(classification_report(y_test, base_patient_pred))\n",
    "# the accuracy for Decision tree is 0.78"
   ]
  },
  {
   "cell_type": "code",
   "execution_count": 73,
   "id": "0ff3fa05",
   "metadata": {},
   "outputs": [
    {
     "name": "stdout",
     "output_type": "stream",
     "text": [
      "Depth of the tree:  11\n",
      "Number of nodes in the tree:  97\n"
     ]
    }
   ],
   "source": [
    "#Properties of the tree\n",
    "\n",
    "# Number of levels:\n",
    "print('Depth of the tree: ',tree_patient.tree_.max_depth)\n",
    "\n",
    "# Number of nodes (total)\n",
    "print('Number of nodes in the tree: ',tree_patient.tree_.node_count)"
   ]
  },
  {
   "cell_type": "code",
   "execution_count": 74,
   "id": "a57e3122",
   "metadata": {
    "scrolled": true
   },
   "outputs": [
    {
     "name": "stdout",
     "output_type": "stream",
     "text": [
      "Best parameters {'class_weight': 'balanced', 'criterion': 'gini', 'max_depth': 2}\n",
      "Best score: 0.7590710382513661\n"
     ]
    }
   ],
   "source": [
    "# Optimizing decision tree\n",
    "\n",
    "opt_tree_patient = DecisionTreeClassifier(random_state = 42)\n",
    "\n",
    "criterion = ['gini', 'entropy']\n",
    "max_depth = [2, 4, 6, 8, 10]\n",
    "weights = ['balanced', {0:0.5, 1:0.5}, {0:0.3, 1:0.7}]\n",
    "\n",
    "grid = dict(criterion = criterion, max_depth = max_depth, class_weight = weights)\n",
    "\n",
    "grid_search = GridSearchCV(estimator= opt_tree_patient, param_grid=grid, scoring='accuracy')\n",
    "\n",
    "grid_result = grid_search.fit(X, y)\n",
    "\n",
    "# The achieved accuracy is  0.7590\n",
    "print('Best parameters', grid_result.best_params_)\n",
    "print('Best score:', grid_result.best_score_)\n"
   ]
  },
  {
   "cell_type": "code",
   "execution_count": 75,
   "id": "286dcd58",
   "metadata": {},
   "outputs": [
    {
     "name": "stdout",
     "output_type": "stream",
     "text": [
      "[[30  5]\n",
      " [10 31]]\n",
      "              precision    recall  f1-score   support\n",
      "\n",
      "           0       0.75      0.86      0.80        35\n",
      "           1       0.86      0.76      0.81        41\n",
      "\n",
      "    accuracy                           0.80        76\n",
      "   macro avg       0.81      0.81      0.80        76\n",
      "weighted avg       0.81      0.80      0.80        76\n",
      "\n"
     ]
    }
   ],
   "source": [
    "#the optimized decision tree\n",
    "tree_patient =DecisionTreeClassifier(criterion='gini', class_weight='balanced', max_depth=2, random_state=42)\n",
    "\n",
    "patient_fit = tree_patient.fit(X_train, y_train)\n",
    "\n",
    "patient_pred = patient_fit.predict(X_test)\n",
    "\n",
    "print(confusion_matrix(y_test ,patient_pred)) \n",
    "print(classification_report(y_test, patient_pred))\n",
    "# the accuracy for Decision tree is improved from 0.78 to 0.80\n"
   ]
  },
  {
   "cell_type": "code",
   "execution_count": 76,
   "id": "13b7a481",
   "metadata": {
    "scrolled": true
   },
   "outputs": [
    {
     "name": "stdout",
     "output_type": "stream",
     "text": [
      "[[29  6]\n",
      " [ 7 34]]\n",
      "              precision    recall  f1-score   support\n",
      "\n",
      "           0       0.81      0.83      0.82        35\n",
      "           1       0.85      0.83      0.84        41\n",
      "\n",
      "    accuracy                           0.83        76\n",
      "   macro avg       0.83      0.83      0.83        76\n",
      "weighted avg       0.83      0.83      0.83        76\n",
      "\n"
     ]
    }
   ],
   "source": [
    "# Optimizing bagging\n",
    "\n",
    "bag_patient = BaggingClassifier(base_estimator = opt_tree_patient, n_estimators = 300, random_state = 42)\n",
    "\n",
    "bag_patient.fit(X_train, y_train)\n",
    "\n",
    "bag_predict = bag_patient.predict(X_test)\n",
    "\n",
    "print(confusion_matrix(y_test, bag_predict))\n",
    "print(classification_report(y_test, bag_predict)) \n",
    "# The achieved accuracy is  0.83"
   ]
  },
  {
   "cell_type": "code",
   "execution_count": 77,
   "id": "18d5152f",
   "metadata": {},
   "outputs": [
    {
     "name": "stdout",
     "output_type": "stream",
     "text": [
      "Best result is 0.7722404371584699 using {'class_weight': 'balanced', 'criterion': 'gini', 'max_depth': 4}\n"
     ]
    }
   ],
   "source": [
    "# Optimizing random forest\n",
    "\n",
    "grid = dict(criterion = criterion, max_depth = max_depth, class_weight = weights)\n",
    "\n",
    "forest_patient = RandomForestClassifier(n_estimators = 300, random_state = 42)\n",
    "\n",
    "grid_search = GridSearchCV(estimator = forest_patient, param_grid=grid, scoring='accuracy')\n",
    "\n",
    "grid_result = grid_search.fit(X, y)\n",
    "\n",
    "#  the accuracy of optimized random forest is 0.772\n",
    "\n",
    "print(\"Best result is\", grid_result.best_score_, 'using', grid_result.best_params_)"
   ]
  },
  {
   "cell_type": "code",
   "execution_count": null,
   "id": "e6b222cd",
   "metadata": {},
   "outputs": [],
   "source": [
    "## Across the optimized models the best score was achieved using bagging =   0.83"
   ]
  },
  {
   "cell_type": "code",
   "execution_count": 78,
   "id": "c861ab5a",
   "metadata": {
    "scrolled": false
   },
   "outputs": [
    {
     "data": {
      "text/plain": [
       "blood_sugar       0.011304\n",
       "cholesterol       0.067506\n",
       "blood_pressure    0.076740\n",
       "gender            0.082282\n",
       "age               0.123832\n",
       "exercise          0.143724\n",
       "heart_rate        0.198688\n",
       "pain              0.295924\n",
       "dtype: float64"
      ]
     },
     "execution_count": 78,
     "metadata": {},
     "output_type": "execute_result"
    }
   ],
   "source": [
    "# Most important features based on best model\n",
    "best_model = grid_result.best_estimator_\n",
    "\n",
    "# The four most important variables are pain, heart_rate, exercise, and age\n",
    "pd.Series(data = best_model.feature_importances_, index= X_train.columns).sort_values()"
   ]
  },
  {
   "cell_type": "code",
   "execution_count": 79,
   "id": "ea37f598",
   "metadata": {
    "scrolled": true
   },
   "outputs": [
    {
     "name": "stdout",
     "output_type": "stream",
     "text": [
      "[[30  5]\n",
      " [10 31]]\n",
      "              precision    recall  f1-score   support\n",
      "\n",
      "           0       0.75      0.86      0.80        35\n",
      "           1       0.86      0.76      0.81        41\n",
      "\n",
      "    accuracy                           0.80        76\n",
      "   macro avg       0.81      0.81      0.80        76\n",
      "weighted avg       0.81      0.80      0.80        76\n",
      "\n"
     ]
    }
   ],
   "source": [
    "# Create new training and test set\n",
    "X = patient[['pain', 'heart_rate', 'exercise', 'age']]\n",
    "y = patient.outcome\n",
    "\n",
    "X_train, X_test, y_train, y_test = train_test_split(X, y, test_size = 0.25, random_state = 42)\n",
    "\n",
    "# Decision tree model with identified optimal parameters of decsion tree\n",
    "\n",
    "select_patient = DecisionTreeClassifier(random_state = 42, class_weight = 'balanced', \n",
    "                                   criterion = 'gini', max_depth = 2)\n",
    "select_patient.fit(X_train, y_train)\n",
    "select_predict = select_patient.predict(X_test)\n",
    "\n",
    "# The best accuracy acheived is 0.80\n",
    "print(confusion_matrix(y_test, select_predict))\n",
    "print(classification_report(y_test, select_predict)) "
   ]
  },
  {
   "cell_type": "code",
   "execution_count": null,
   "id": "63aa24c8",
   "metadata": {},
   "outputs": [],
   "source": [
    "##using only four variables the accuracy reaches to 0.80(80%). \n",
    "##The best accuracy was achieved using bagging classifier 0.83(83%)"
   ]
  }
 ],
 "metadata": {
  "kernelspec": {
   "display_name": "Python 3 (ipykernel)",
   "language": "python",
   "name": "python3"
  },
  "language_info": {
   "codemirror_mode": {
    "name": "ipython",
    "version": 3
   },
   "file_extension": ".py",
   "mimetype": "text/x-python",
   "name": "python",
   "nbconvert_exporter": "python",
   "pygments_lexer": "ipython3",
   "version": "3.9.12"
  }
 },
 "nbformat": 4,
 "nbformat_minor": 5
}
